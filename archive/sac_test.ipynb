{
 "cells": [
  {
   "cell_type": "code",
   "execution_count": 1,
   "metadata": {},
   "outputs": [],
   "source": [
    "from copy import deepcopy\n",
    "import os\n",
    "from pathlib import Path\n",
    "import matplotlib.pyplot as plt\n",
    "import numpy as np\n",
    "import pandas as pd\n",
    "from sac import SAC\n",
    "from citylearn.agents.sac import  SACBasicBatteryRBC as Agent\n",
    "from citylearn.citylearn import CityLearnEnv\n",
    "from citylearn.cost_function import CostFunction\n",
    "from citylearn.utilities import read_json"
   ]
  },
  {
   "cell_type": "code",
   "execution_count": 2,
   "metadata": {},
   "outputs": [],
   "source": [
    "TIMESTAMPS = pd.DataFrame(pd.date_range('2016-08-01 00:00:00','2017-07-31 23:00:00',freq='H'),columns=['timestamp'])\n",
    "TIMESTAMPS['time_step'] = TIMESTAMPS.index\n",
    "\n",
    "plt.rcParams['axes.xmargin'] = 0\n",
    "plt.rcParams['axes.ymargin'] = 0\n",
    "\n",
    "root_directory = Path('/Users/kingsleyenweye/Desktop/INTELLIGENT_ENVIRONMENT_LAB/citylearn/buildsys_2022/data/citylearn_challenge_2022_phase_1/')\n",
    "schema = os.path.join(root_directory, 'schema.json')\n",
    "schema = read_json(schema)\n",
    "schema['root_directory'] = root_directory\n",
    "\n",
    "# use only 1 building\n",
    "schema['buildings'] = {'Building_1': schema['buildings']['Building_1']}\n",
    "schema['reward_function']['type'] = 'reward.RampingReward'\n",
    "active_observations = ['hour','direct_solar_irradiance_predicted_6h','non_shiftable_load','solar_generation','electrical_storage_soc']\n",
    "\n",
    "for o in schema['observations']:\n",
    "    schema['observations'][o]['active'] = True if o in active_observations else False\n",
    "\n",
    "env = CityLearnEnv(schema)\n",
    "env.central_agent = False\n",
    "\n",
    "# define agent attributes (these hyperparameters are arbitrary and should be tuned to maximize performance).\n",
    "agent_kwargs = {\n",
    "    'building_ids': [b.uid for b in env.buildings],\n",
    "    'buildings_states_actions': {b.uid:{'states':{o:True for o in b.active_observations}} for i, b in enumerate(env.buildings)},\n",
    "    'building_info': env.get_building_information(),\n",
    "    'observation_spaces': env.observation_space,\n",
    "    'action_spaces':env.action_space,\n",
    "    \"hidden_dim\": [\n",
    "    256,\n",
    "    256\n",
    "    ],\n",
    "    \"discount\": 0.99,\n",
    "    \"tau\": 5e-3,\n",
    "    \"lr\": 3e-4,\n",
    "    \"batch_size\": 256,\n",
    "    \"replay_buffer_capacity\": 100000.0,\n",
    "    \"start_training\": 1000,\n",
    "    \"exploration_period\": 3000,\n",
    "    \"action_scaling_coef\": 0.5,\n",
    "    \"reward_scaling\": 5.0,\n",
    "    \"update_per_step\": 2,\n",
    "    \"seed\": 0,\n",
    "}\n"
   ]
  },
  {
   "cell_type": "code",
   "execution_count": 14,
   "metadata": {},
   "outputs": [
    {
     "name": "stdout",
     "output_type": "stream",
     "text": [
      "Time step: 8759/8759, Episode: 4/4, Actions: [[-0.05657912]]             "
     ]
    }
   ],
   "source": [
    "# construct agents. Since central_agent property = False, the env.action_space will have a length = number of buildings.\n",
    "# define number of episodes\n",
    "episodes = 5\n",
    "agent = SAC(**agent_kwargs)\n",
    "# begin simulation for each episde\n",
    "for episode in range(episodes):\n",
    "    action_history = []\n",
    "    # for each episode, first reset environment and get initial observations\n",
    "    observations = env.reset()\n",
    "\n",
    "    while not env.done:\n",
    "        # select actions\n",
    "        actions, _ = agent.select_action(observations)\n",
    "        action_history.append(actions[0].tolist())\n",
    "\n",
    "        # apply actions to citylearn_env\n",
    "        next_observations, reward_list, _, _ = env.step(actions)\n",
    "\n",
    "        # update policy\n",
    "        agent.add_to_buffer(observations, actions, reward_list, next_observations, env.done, None, None)\n",
    "\n",
    "        observations = [o for o in next_observations]\n",
    "\n",
    "        # print progress\n",
    "        print(\n",
    "            f'\\rTime step: {env.time_step}/{env.time_steps - 1},'\\\n",
    "                f' Episode: {episode}/{episodes - 1},'\\\n",
    "                    f' Actions: {actions}',\n",
    "            end=' '*10\n",
    "        )\n",
    "\n",
    "    b = env.buildings[0]\n",
    "    rewards = pd.DataFrame(env.rewards)\n",
    "    actions = pd.DataFrame(action_history+[[0.0]])\n",
    "    data = pd.DataFrame({\n",
    "        'net_electricity_consumption':b.net_electricity_consumption,\n",
    "        'net_electricity_consumption_emission':b.net_electricity_consumption_emission,\n",
    "        'net_electricity_consumption_price':b.net_electricity_consumption_price,\n",
    "        'net_electricity_consumption_without_storage':b.net_electricity_consumption_without_storage,\n",
    "        'net_electricity_consumption_emission_without_storage':b.net_electricity_consumption_without_storage_emission,\n",
    "        'net_electricity_consumption_price_without_storage':b.net_electricity_consumption_without_storage_price,\n",
    "        'net_electricity_consumption_without_storage_and_pv':b.net_electricity_consumption_without_storage_and_pv,\n",
    "        'electrical_storage_soc':b.electrical_storage.soc,\n",
    "        'electrical_storage_electricity_consumption':b.electrical_storage.electricity_consumption,\n",
    "        'action':(actions[0].iloc[-8760:]*b.electrical_storage.capacity).tolist(),\n",
    "        'reward':rewards[0],\n",
    "    })\n",
    "    data['time_step'] = data.index\n",
    "    data['episode'] = episode\n",
    "    data = data.merge(TIMESTAMPS, on='time_step', how='left')\n",
    "    data['month'] = data['timestamp'].dt.month\n",
    "    data['year'] = data['timestamp'].dt.year\n",
    "    data.to_csv(f'/Users/kingsleyenweye/Desktop/INTELLIGENT_ENVIRONMENT_LAB/citylearn/buildsys_2022/data/single_building/orig_episode_{episode}.csv',index=False)"
   ]
  },
  {
   "cell_type": "code",
   "execution_count": 15,
   "metadata": {},
   "outputs": [
    {
     "data": {
      "image/png": "[encoded data removed]",
      "text/plain": [
       "<Figure size 576x288 with 1 Axes>"
      ]
     },
     "metadata": {
      "needs_background": "light"
     },
     "output_type": "display_data"
    }
   ],
   "source": [
    "suffixes = ['', '_without_storage']\n",
    "group_list = []\n",
    "\n",
    "for suffix in suffixes:\n",
    "    for episode, group in data.groupby(['episode']):\n",
    "        group = group.copy()\n",
    "        column = 'net_electricity_consumption' + suffix\n",
    "        group['average_daily_peak'] = CostFunction.average_daily_peak(group[column])\n",
    "        group['load_factor'] = CostFunction.load_factor(group[column])\n",
    "        group['ramping'] = CostFunction.ramping(group[column])\n",
    "        group['emission'] = CostFunction.carbon_emissions(group['net_electricity_consumption_emission'+suffix])\n",
    "        group['price'] = CostFunction.price(group['net_electricity_consumption_price'+suffix])\n",
    "        group['electricity_consumption'] = CostFunction.net_electricity_consumption(group[column])\n",
    "        group['storage'] = 'without_storage' if 'without' in suffix else 'with_storage'\n",
    "        group_list.append(group)\n",
    "\n",
    "plot_data = pd.concat(group_list,ignore_index=True)\n",
    "del group_list\n",
    "plot_data = plot_data.melt(\n",
    "    id_vars=['episode','time_step','storage'],\n",
    "    value_vars=['average_daily_peak','load_factor','ramping','emission','price','electricity_consumption'],\n",
    "    var_name='cost_function'\n",
    ")\n",
    "plot_data = plot_data.pivot_table(index=['episode','time_step','cost_function'],columns='storage',values='value')\n",
    "plot_data = plot_data.reset_index()\n",
    "plot_data['score'] = plot_data['with_storage']/plot_data['without_storage']\n",
    "\n",
    "# final score\n",
    "row_count = 1\n",
    "column_count = 1\n",
    "fig, ax = plt.subplots(row_count,column_count,figsize=(column_count*8,row_count*4),sharex=True,sharey=True)\n",
    "final_data = plot_data[\n",
    "    (plot_data['episode']==plot_data['episode'].max())\n",
    "    &(plot_data['time_step']==plot_data['time_step'].max())\n",
    "].copy()\n",
    "y = final_data['score']\n",
    "x = final_data['cost_function']\n",
    "rects = ax.barh(x,y)\n",
    "ax.bar_label(rects,fmt='%.4f',label_type='edge')\n",
    "ax.axvline(1.0,color='black',linestyle='--')\n",
    "ax.set_ylabel('Cost function')\n",
    "ax.set_yticks(x.tolist())\n",
    "ax.set_yticklabels(x.tolist())\n",
    "ax.spines[['right','top']].set_visible(False)\n",
    "plt.tight_layout()\n",
    "plt.show()"
   ]
  },
  {
   "cell_type": "code",
   "execution_count": null,
   "metadata": {},
   "outputs": [],
   "source": []
  }
 ],
 "metadata": {
  "kernelspec": {
   "display_name": "Python 3.7.3 ('env': venv)",
   "language": "python",
   "name": "python3"
  },
  "language_info": {
   "codemirror_mode": {
    "name": "ipython",
    "version": 3
   },
   "file_extension": ".py",
   "mimetype": "text/x-python",
   "name": "python",
   "nbconvert_exporter": "python",
   "pygments_lexer": "ipython3",
   "version": "3.7.3"
  },
  "orig_nbformat": 4,
  "vscode": {
   "interpreter": {
    "hash": "df8cd4e755989f07eab3138498c315b2c390db510f6c6b4a7f789f0801d89f02"
   }
  }
 },
 "nbformat": 4,
 "nbformat_minor": 2
}
