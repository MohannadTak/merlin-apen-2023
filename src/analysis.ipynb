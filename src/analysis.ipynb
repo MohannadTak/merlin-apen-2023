{
 "cells": [
  {
   "cell_type": "code",
   "execution_count": 1,
   "metadata": {},
   "outputs": [],
   "source": [
    "import logging\n",
    "import os\n",
    "import pickle\n",
    "from pathlib import Path\n",
    "from citylearn.citylearn import CityLearnEnv\n",
    "from citylearn.utilities import read_json"
   ]
  },
  {
   "cell_type": "code",
   "execution_count": 2,
   "metadata": {},
   "outputs": [],
   "source": [
    "LOGGER = logging.getLogger(__name__)\n",
    "log_filepath = Path(f'/Users/kingsleyenweye/Desktop/INTELLIGENT_ENVIRONMENT_LAB/citylearn/buildsys_2022/simulation.log')\n",
    "LOGGER.setLevel(logging.DEBUG)\n",
    "handler = logging.FileHandler(log_filepath,mode='w')\n",
    "formatter = logging.Formatter('%(asctime)s: %(message)s')\n",
    "handler.setFormatter(formatter)\n",
    "LOGGER.addHandler(handler)\n",
    "data_directory = Path('/Users/kingsleyenweye/Desktop/INTELLIGENT_ENVIRONMENT_LAB/citylearn/buildsys_2022/data')\n",
    "root_directory = Path('/Users/kingsleyenweye/Desktop/INTELLIGENT_ENVIRONMENT_LAB/epri_data/data/citylearn_challenge_2022_phase_3/')\n",
    "schema_filepath = os.path.join(root_directory,'schema.json')\n",
    "schema = read_json(schema_filepath)\n",
    "schema['root_directory'] = root_directory.as_posix()\n",
    "schema['episodes'] = 20\n",
    "schema['agent'] = {\n",
    "    'type':'citylearn.agents.sac.SAC',\n",
    "    'attributes':{\n",
    "        'hidden_dimension':[256,256],\n",
    "        'discount':0.99,\n",
    "        'tau':0.005,\n",
    "        'lr':0.003,\n",
    "        'batch_size':256,\n",
    "        'replay_buffer_capacity':100_000,\n",
    "        'start_training_time_step':6_000,\n",
    "        'end_exploration_time_step':7_000,\n",
    "        'deterministic_start_time_step':157_680,\n",
    "        'action_scaling_coef':0.5,\n",
    "        'reward_scaling':5.0,\n",
    "        'update_per_time_step':2,\n",
    "    }\n",
    "}\n",
    "schema['reward_function'] = 'reward.MultiObjectiveReward'\n",
    "env = CityLearnEnv(schema)\n",
    "agents = env.load_agents()"
   ]
  },
  {
   "cell_type": "code",
   "execution_count": 3,
   "metadata": {},
   "outputs": [
    {
     "ename": "OSError",
     "evalue": "[Errno 28] No space left on device",
     "output_type": "error",
     "traceback": [
      "\u001b[0;31m---------------------------------------------------------------------------\u001b[0m",
      "\u001b[0;31mOSError\u001b[0m                                   Traceback (most recent call last)",
      "\u001b[0;32m/var/folders/gz/rbl0rksd7dqcx5pny2wgmsb40000gn/T/ipykernel_6670/3130265030.py\u001b[0m in \u001b[0;36m<module>\u001b[0;34m\u001b[0m\n\u001b[1;32m     35\u001b[0m \u001b[0;34m\u001b[0m\u001b[0m\n\u001b[1;32m     36\u001b[0m     \u001b[0;32mwith\u001b[0m \u001b[0mopen\u001b[0m\u001b[0;34m(\u001b[0m\u001b[0mos\u001b[0m\u001b[0;34m.\u001b[0m\u001b[0mpath\u001b[0m\u001b[0;34m.\u001b[0m\u001b[0mjoin\u001b[0m\u001b[0;34m(\u001b[0m\u001b[0mdata_directory\u001b[0m\u001b[0;34m,\u001b[0m\u001b[0;34mf'simulation_1_episode_{int(episode)}.pkl'\u001b[0m\u001b[0;34m)\u001b[0m\u001b[0;34m,\u001b[0m\u001b[0;34m'wb'\u001b[0m\u001b[0;34m)\u001b[0m \u001b[0;32mas\u001b[0m \u001b[0mf\u001b[0m\u001b[0;34m:\u001b[0m\u001b[0;34m\u001b[0m\u001b[0;34m\u001b[0m\u001b[0m\n\u001b[0;32m---> 37\u001b[0;31m         \u001b[0mpickle\u001b[0m\u001b[0;34m.\u001b[0m\u001b[0mdump\u001b[0m\u001b[0;34m(\u001b[0m\u001b[0;34m{\u001b[0m\u001b[0;34m'env'\u001b[0m\u001b[0;34m:\u001b[0m\u001b[0menv\u001b[0m\u001b[0;34m,\u001b[0m\u001b[0;34m'agents'\u001b[0m\u001b[0;34m:\u001b[0m\u001b[0magents\u001b[0m\u001b[0;34m}\u001b[0m\u001b[0;34m,\u001b[0m\u001b[0mf\u001b[0m\u001b[0;34m)\u001b[0m\u001b[0;34m\u001b[0m\u001b[0;34m\u001b[0m\u001b[0m\n\u001b[0m",
      "\u001b[0;31mOSError\u001b[0m: [Errno 28] No space left on device"
     ]
    }
   ],
   "source": [
    "for episode in range(schema['episodes']):\n",
    "    observations_list = env.reset()\n",
    "\n",
    "    while not env.done:\n",
    "        actions_list = []\n",
    "\n",
    "        # select actions\n",
    "        for agent, observations in zip(agents, observations_list):\n",
    "            if agent.action_dimension > 0:\n",
    "                actions = agent.select_actions(observations)\n",
    "                \n",
    "            else:\n",
    "                actions = []\n",
    "            \n",
    "            actions_list.append(actions)\n",
    "\n",
    "        # apply actions to citylearn_env\n",
    "        next_observations_list, reward_list, _, _ = env.step(actions_list)\n",
    "\n",
    "        # update\n",
    "        for agent, observations, actions, reward, next_observations in zip(agents, observations_list, actions_list, reward_list, next_observations_list):\n",
    "            if agent.action_dimension > 0:\n",
    "                agent.add_to_buffer(observations, actions, reward, next_observations, done=env.done)\n",
    "            else:\n",
    "                continue\n",
    "\n",
    "        observations_list = [o for o in next_observations_list]\n",
    "\n",
    "        LOGGER.debug(\n",
    "            f'Time step: {env.time_step}/{env.time_steps - 1},'\\\n",
    "                f' Episode: {episode}/{schema[\"episodes\"] - 1},'\\\n",
    "                    f' Actions: {actions_list},'\\\n",
    "                        f' Rewards: {reward_list}'\n",
    "        )\n",
    "\n",
    "    with open(os.path.join(data_directory,f'simulation_1_episode_{int(episode)}.pkl'),'wb') as f:\n",
    "        pickle.dump({'env':env,'agents':agents},f)"
   ]
  }
 ],
 "metadata": {
  "kernelspec": {
   "display_name": "Python 3.7.7 ('env': venv)",
   "language": "python",
   "name": "python3"
  },
  "language_info": {
   "codemirror_mode": {
    "name": "ipython",
    "version": 3
   },
   "file_extension": ".py",
   "mimetype": "text/x-python",
   "name": "python",
   "nbconvert_exporter": "python",
   "pygments_lexer": "ipython3",
   "version": "3.7.3"
  },
  "orig_nbformat": 4,
  "vscode": {
   "interpreter": {
    "hash": "df8cd4e755989f07eab3138498c315b2c390db510f6c6b4a7f789f0801d89f02"
   }
  }
 },
 "nbformat": 4,
 "nbformat_minor": 2
}
